{
  "metadata": {
    "kernelspec": {
      "name": "",
      "display_name": ""
    },
    "language_info": {
      "name": ""
    }
  },
  "nbformat_minor": 5,
  "nbformat": 4,
  "cells": [
    {
      "id": "08dc0a8b-439d-459f-a592-24634f048a93",
      "cell_type": "code",
      "source": "# Install dependencies\n!apt-get -qq install curl wget > /dev/null\n\n# ==== CONFIG ====\nlinks = [\n    \"https://bunkr.cr/f/2jscZ602iJjZX\",\n    \"https://bunkr.cr/f/f6wjYPbQR2mcJ\",\n    \"https://bunkr.cr/f/aVmPfP2ys16f6\",\n    \"https://bunkr.cr/f/I6uKyzh4lJoxP\",\n    \"https://bunkr.cr/f/5Sxyomg6YMUQv\",\n    \"https://bunkr.cr/f/BctVyAEtgrUSm\",\n    \"https://bunkr.cr/f/nBr3Z457IFkHc\",\n    \"https://bunkr.cr/f/wlwewNP8db5Qa\",\n    \"https://bunkr.cr/f/ncDzZ8nND8r92\",\n    \"https://bunkr.cr/f/CiAah2L2U12Ln\",\n    \"https://bunkr.cr/f/NWy9FadABPbtK\",\n    \"https://bunkr.cr/f/YvwbPo5IHB7Y5\",\n    \"https://bunkr.cr/f/uci2tuMrklr91\",\n    \"https://bunkr.cr/f/dFpPTKVbkNfOJ\",\n    \"https://bunkr.cr/f/1xIP1cMMEOjLV\",\n    \"https://bunkr.cr/f/RdRx1c3vt6UpR\",\n    \"https://bunkr.cr/f/9F5Y0lzQ8qdNV\",\n]\n\n# ==== SCRAPE & DOWNLOAD ====\nimport subprocess, os, re\n\nos.makedirs(\"/content/videos\", exist_ok=True)\nmp4_links = []\n\nfor url in links:\n    # fetch HTML\n    html = subprocess.check_output([\"curl\", \"-sL\", url], text=True)\n    # extract first .mp4 link\n    match = re.findall(r'https[^\"]+\\.mp4', html)\n    if match:\n        mp4_links.append(match[0])\n\n# Save all .mp4 links\nwith open(\"/content/urls.txt\", \"w\") as f:\n    f.write(\"\\n\".join(mp4_links))\n\n# Download with aria2c (parallel chunks)\n!aria2c -x 16 -s 16 -i /content/urls.txt -d /content/videos --continue\n\nprint(\"Done. Videos in /content/videos\")\n",
      "metadata": {
        "trusted": true
      },
      "outputs": [],
      "execution_count": null
    }
  ]
}