{
  "metadata": {
    "kernelspec": {
      "name": "",
      "display_name": ""
    },
    "language_info": {
      "name": ""
    }
  },
  "nbformat_minor": 5,
  "nbformat": 4,
  "cells": [
    {
      "id": "08dc0a8b-439d-459f-a592-24634f048a93",
      "cell_type": "code",
      "source": "# Install dependencies\n!apt-get -qq install curl wget aria2 > /dev/null\n\n# ==== CONFIG ====\nlinks_raw = \"\"\"\nhttps://bunkr.cr/f/2jscZ602iJjZX\nhttps://bunkr.cr/f/f6wjYPbQR2mcJ\nhttps://bunkr.cr/f/aVmPfP2ys16f6\nhttps://bunkr.cr/f/I6uKyzh4lJoxP\nhttps://bunkr.cr/f/5Sxyomg6YMUQv\nhttps://bunkr.cr/f/BctVyAEtgrUSm\nhttps://bunkr.cr/f/nBr3Z457IFkHc\nhttps://bunkr.cr/f/wlwewNP8db5Qa\nhttps://bunkr.cr/f/ncDzZ8nND8r92\nhttps://bunkr.cr/f/CiAah2L2U12Ln\nhttps://bunkr.cr/f/NWy9FadABPbtK\nhttps://bunkr.cr/f/YvwbPo5IHB7Y5\nhttps://bunkr.cr/f/uci2tuMrklr91\nhttps://bunkr.cr/f/dFpPTKVbkNfOJ\nhttps://bunkr.cr/f/1xIP1cMMEOjLV\nhttps://bunkr.cr/f/RdRx1c3vt6UpR\nhttps://bunkr.cr/f/9F5Y0lzQ8qdNV\n\"\"\"\n\n# Clean and split into list\nlinks = [line.strip() for line in links_raw.splitlines() if line.strip()]\n\n# ==== SCRAPE & DOWNLOAD ====\nimport subprocess, os, re\n\nos.makedirs(\"/content/videos\", exist_ok=True)\nmp4_links = []\n\nfor url in links:\n    html = subprocess.check_output([\"curl\", \"-sL\", url], text=True)\n    match = re.findall(r'https[^\"]+\\.mp4', html)\n    if match:\n        mp4_links.append(match[0])\n\n# Save all .mp4 links\nwith open(\"/content/urls.txt\", \"w\") as f:\n    f.write(\"\\n\".join(mp4_links))\n\n# Download with aria2c\n!aria2c -x 16 -s 16 -i /content/urls.txt -d /content/videos --continue\n\nprint(\"✅ Done. Videos in /content/videos\")\n\n",
      "metadata": {
        "trusted": true
      },
      "outputs": [],
      "execution_count": null
    }
  ]
}