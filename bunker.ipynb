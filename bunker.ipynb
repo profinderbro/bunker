{
  "cells": [
    {
      "cell_type": "markdown",
      "source": [
        "# Instructions  \n",
        "\n",
        " **Step 01**\n",
        "\n",
        "> Go to the Bunkr album page and copy the URLs for videos. See the image below for reference.  \n",
        "\n",
        "![img](https://i.ibb.co/h667DmT/Screenshot-20250910-000418.png)  \n",
        "\n",
        ">Then paste them into under the code snippet, where the `links_raw` is present, you will find further below, which looks like this:  \n",
        "\n",
        "```python\n",
        "links_raw = \"\"\"\n",
        "\n",
        "HERE 1\n",
        "HERE 2...\n",
        "\n",
        "\"\"\"\n",
        "```\n",
        "**Step 02**\n",
        "\n",
        ">The Press the Play button\n",
        "\n",
        "![play](https://i.ibb.co/0yc16Yhr/image.png)\n",
        "\n",
        "\n",
        "👇🏻\n"
      ],
      "metadata": {
        "id": "beyApuIfvTHY"
      }
    },
    {
      "cell_type": "code",
      "execution_count": null,
      "metadata": {
        "id": "WGQ7uDmvsHu-"
      },
      "outputs": [],
      "source": [
        "!apt-get -qq install curl > /dev/null\n",
        "\n",
        "# ⚠️👇🏻 Paste your links here, one per line (Which you get get in advance view for the bunker folder)\n",
        "\n",
        "links_raw = \"\"\"\n",
        "\n",
        "Paste Here The URLs\n",
        "\n",
        "\"\"\"\n",
        "\n",
        "links = [line.strip() for line in links_raw.splitlines() if line.strip()]\n",
        "\n",
        "import subprocess, re\n",
        "mp4_links = []\n",
        "for url in links:\n",
        "    html = subprocess.check_output([\"curl\", \"-sL\", url], text=True)\n",
        "    match = re.findall(r'https:\\\\/\\\\/i-kebab\\.bunkr\\.ru\\\\/thumbs\\\\/[^\"]+?\\.mp4', html)\n",
        "    for m in match:\n",
        "        clean = m.replace(\"\\\\/\", \"/\")\n",
        "        clean = clean.replace(\"https://i-kebab.bunkr.ru/thumbs/\", \"https://kebab.bunkr.ru/\")\n",
        "        mp4_links.append(clean)\n",
        "\n",
        "print(\"\\n\".join(mp4_links))"
      ]
    }
  ],
  "metadata": {
    "colab": {
      "provenance": []
    },
    "kernelspec": {
      "display_name": "Python 3",
      "name": "python3"
    },
    "language_info": {
      "name": "python"
    }
  },
  "nbformat": 4,
  "nbformat_minor": 0
}